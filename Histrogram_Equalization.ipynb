{
  "nbformat": 4,
  "nbformat_minor": 0,
  "metadata": {
    "colab": {
      "name": "Histrogram_Equalization.ipynb",
      "provenance": []
    },
    "kernelspec": {
      "name": "python3",
      "display_name": "Python 3"
    }
  },
  "cells": [
    {
      "cell_type": "code",
      "metadata": {
        "id": "TTClYuwp5CBf",
        "colab_type": "code",
        "colab": {}
      },
      "source": [
        "import os\n",
        "import cv2"
      ],
      "execution_count": null,
      "outputs": []
    },
    {
      "cell_type": "code",
      "metadata": {
        "id": "t57Ufz3j5aQ9",
        "colab_type": "code",
        "colab": {}
      },
      "source": [
        "file_list=os.listdir(r\"your_path\")"
      ],
      "execution_count": null,
      "outputs": []
    },
    {
      "cell_type": "code",
      "metadata": {
        "id": "knp8EHwr6hwb",
        "colab_type": "code",
        "colab": {}
      },
      "source": [
        "for files in file_list:\n",
        "    img = cv2.imread(files, 0)  \n",
        "    equ = cv2.equalizeHist(img)\n",
        "    cv2.imwrite(files,equ)"
      ],
      "execution_count": null,
      "outputs": []
    }
  ]
}