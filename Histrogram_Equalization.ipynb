{
  "nbformat": 4,
  "nbformat_minor": 0,
  "metadata": {
    "colab": {
      "name": "Histrogram_Equalization.ipynb",
      "provenance": [],
      "collapsed_sections": []
    },
    "kernelspec": {
      "name": "python3",
      "display_name": "Python 3"
    }
  },
  "cells": [
    {
      "cell_type": "code",
      "metadata": {
        "id": "TTClYuwp5CBf",
        "colab_type": "code",
        "colab": {}
      },
      "source": [
        "import os\n",
        "import cv2"
      ],
      "execution_count": null,
      "outputs": []
    },
    {
      "cell_type": "code",
      "metadata": {
        "id": "knp8EHwr6hwb",
        "colab_type": "code",
        "colab": {}
      },
      "source": [
        "for i in os.listdir(\"your_path\"):\n",
        "    file = (\"your_path\" + str(i))\n",
        "    print(file)\n",
        "    img = cv2.imread(file, 0)  \n",
        "    img = cv2.equalizeHist(img)\n",
        "    cv2.imwrite(file,img)"
      ],
      "execution_count": null,
      "outputs": []
    }
  ]
}